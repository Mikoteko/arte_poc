{
 "cells": [
  {
   "cell_type": "code",
   "execution_count": 17,
   "metadata": {},
   "outputs": [],
   "source": [
    "import os\n",
    "import json\n",
    "import requests\n",
    "import json\n",
    "import pandas as pd\n",
    "import re\n",
    "import uuid"
   ]
  },
  {
   "cell_type": "code",
   "execution_count": 12,
   "metadata": {},
   "outputs": [],
   "source": [
    "# Load the JSON data\n",
    "with open('dessous-des-cartes.json', 'r', encoding='utf-8') as f:\n",
    "    data = json.load(f)"
   ]
  },
  {
   "cell_type": "code",
   "execution_count": 3,
   "metadata": {},
   "outputs": [
    {
     "name": "stdout",
     "output_type": "stream",
     "text": [
      "Downloading https://arte-cmafhls.akamaized.net/am/cmaf/119000/119900/119961-022-A/2025060514733CA1DC338C484B0475265BB19ADC1B/medias/119961-022-A_st_VF-MAL.vtt -> subtitles/119961-022-A_st_VF-MAL.vtt\n",
      "Downloading https://arte-cmafhls.akamaized.net/am/cmaf/119000/119900/119961-021-A/2025052211C19B884E96D7FCE022BEC0021DCAA628/medias/119961-021-A_st_VF-MAL.vtt -> subtitles/119961-021-A_st_VF-MAL.vtt\n",
      "Downloading https://arte-cmafhls.akamaized.net/am/cmaf/119000/119900/119961-020-A/20250516100047B0892A372C59482317B439894638/medias/119961-020-A_st_VF-MAL.vtt -> subtitles/119961-020-A_st_VF-MAL.vtt\n",
      "Downloading https://arte-cmafhls.akamaized.net/am/cmaf/119000/119900/119961-019-A/20250520162C1DD966CD6699F6CD2D91A177BDF2B9/medias/119961-019-A_st_VF-MAL.vtt -> subtitles/119961-019-A_st_VF-MAL.vtt\n",
      "Downloading https://arte-cmafhls.akamaized.net/am/cmaf/119000/119900/119961-018-A/2025061921BA5631E329E11F3F461B729350DA5593/medias/119961-018-A_st_VF-MAL.vtt -> subtitles/119961-018-A_st_VF-MAL.vtt\n",
      "Downloading https://arte-cmafhls.akamaized.net/am/cmaf/119000/119900/119961-017-A/2025051312735F93EF486E1DE122A0B08FA2DC546A/medias/119961-017-A_st_VF-MAL.vtt -> subtitles/119961-017-A_st_VF-MAL.vtt\n",
      "Downloading https://arte-cmafhls.akamaized.net/am/cmaf/119000/119900/119961-016-A/2025041115E7650B35B9400C4EFE1715243E7710E8/medias/119961-016-A_st_VF-MAL.vtt -> subtitles/119961-016-A_st_VF-MAL.vtt\n",
      "Downloading https://arte-cmafhls.akamaized.net/am/cmaf/119000/119900/119961-015-A/20250620096E718AFA508717F2A4C79694D9863B91/medias/119961-015-A_st_VF-MAL.vtt -> subtitles/119961-015-A_st_VF-MAL.vtt\n",
      "Downloading https://arte-cmafhls.akamaized.net/am/cmaf/123000/123900/123943-001-A/202506241460D52083AC924086B36CECF6AACFDA5D/medias/123943-001-A_st_VF-MAL.vtt -> subtitles/123943-001-A_st_VF-MAL.vtt\n",
      "Downloading https://arte-cmafhls.akamaized.net/am/cmaf/119000/119900/119961-014-A/2025032415C81DBC126BF2AA93C0A1C53578CDB692/medias/119961-014-A_st_VF-MAL.vtt -> subtitles/119961-014-A_st_VF-MAL.vtt\n"
     ]
    }
   ],
   "source": [
    "# Ensure the subtitles directory exists\n",
    "os.makedirs('subtitles', exist_ok=True)\n",
    "\n",
    "for entry in data:\n",
    "    url = entry.get('subtitle_url')\n",
    "    if not url:\n",
    "        continue\n",
    "    filename = url.split('/')[-1]\n",
    "    dest_path = os.path.join('subtitles', filename)\n",
    "    print(f\"Downloading {url} -> {dest_path}\")\n",
    "    try:\n",
    "        response = requests.get(url)\n",
    "        response.raise_for_status()\n",
    "        with open(dest_path, 'wb') as out_file:\n",
    "            out_file.write(response.content)\n",
    "    except Exception as e:\n",
    "        print(f\"Failed to download {url}: {e}\")"
   ]
  },
  {
   "cell_type": "code",
   "execution_count": 4,
   "metadata": {},
   "outputs": [],
   "source": [
    "# Build a mapping from filename to title\n",
    "filename_to_title = {}\n",
    "for entry in data:\n",
    "    url = entry.get('subtitle_url')\n",
    "    if url:\n",
    "        filename = url.split('/')[-1]\n",
    "        filename_to_title[filename] = entry.get('title', '')"
   ]
  },
  {
   "cell_type": "code",
   "execution_count": 5,
   "metadata": {},
   "outputs": [],
   "source": [
    "# Prepare the dataset\n",
    "dataset = []\n",
    "\n",
    "# Iterate over every file in the subtitles folder\n",
    "for filename in os.listdir('subtitles'):\n",
    "    if not filename.endswith('.vtt'):\n",
    "        continue\n",
    "    file_path = os.path.join('subtitles', filename)\n",
    "    with open(file_path, 'r', encoding='utf-8') as f:\n",
    "        vtt_text = f.read()\n",
    "\n",
    "    # Clean the text\n",
    "    cleaned_text = re.sub(r'WEBVTT.*?(\\r\\n|\\n)', '', vtt_text, flags=re.DOTALL)\n",
    "    cleaned_text = re.sub(r'STYLE.*?(\\r\\n|\\n)', '', cleaned_text, flags=re.DOTALL)\n",
    "    cleaned_text = re.sub(r'\\d{2}:\\d{2}:\\d{2}\\.\\d{3} --> \\d{2}:\\d{2}:\\d{2}\\.\\d{3}.*?(\\r\\n|\\n)', '', cleaned_text)\n",
    "    cleaned_text = re.sub(r'<[^>]+>', '', cleaned_text)\n",
    "    cleaned_text = re.sub(r'::cue\\([^}]*\\}\\s*', '', cleaned_text)\n",
    "    cleaned_text = ' '.join(cleaned_text.split())\n",
    "\n",
    "    # Get the title\n",
    "    title = filename_to_title.get(filename, '')\n",
    "\n",
    "    # Add to dataset\n",
    "    dataset.append({\n",
    "        'title': title,\n",
    "        'filename': filename,\n",
    "        'cleaned_subtitles': cleaned_text\n",
    "    })"
   ]
  },
  {
   "cell_type": "code",
   "execution_count": 6,
   "metadata": {},
   "outputs": [
    {
     "name": "stdout",
     "output_type": "stream",
     "text": [
      "                                               title  \\\n",
      "0  Le dessous des cartes - Émirats arabes unis : ...   \n",
      "1  Le dessous des cartes - Afrique : la France en...   \n",
      "2  Le dessous des cartes - Chine : puissance de g...   \n",
      "3  Le dessous des cartes - Le golfe de Guinée : u...   \n",
      "4  Le dessous des cartes - La Pologne : nouveau l...   \n",
      "\n",
      "                     filename  \\\n",
      "0  123943-001-A_st_VF-MAL.vtt   \n",
      "1  119961-021-A_st_VF-MAL.vtt   \n",
      "2  119961-014-A_st_VF-MAL.vtt   \n",
      "3  119961-020-A_st_VF-MAL.vtt   \n",
      "4  119961-018-A_st_VF-MAL.vtt   \n",
      "\n",
      "                                   cleaned_subtitles  \n",
      "0  ... Cris des mouettes. -Ravie de vous retrouve...  \n",
      "1  ... -Bienvenue pour le \"Dessous des cartes\". O...  \n",
      "2  ... -Ravie de vous retrouver pour \"Le dessous ...  \n",
      "3  ... -Bienvenue dans \"Le dessous des cartes\". J...  \n",
      "4  ... -Ravie de vous retrouver. Aujourd'hui, on ...  \n"
     ]
    }
   ],
   "source": [
    "# Create DataFrame\n",
    "df = pd.DataFrame(dataset)\n",
    "\n",
    "# Save to CSV (optional)\n",
    "# df.to_csv('cleaned_subtitles_dataset.csv', index=False)\n",
    "df.to_json('cleaned_subtitles.json', orient='records', force_ascii=False, indent=2)\n",
    "\n",
    "print(df.head())"
   ]
  },
  {
   "cell_type": "code",
   "execution_count": 7,
   "metadata": {},
   "outputs": [],
   "source": [
    "# # Only keep the cleaned_subtitles field\n",
    "# cleaned_subtitles_list = [item['cleaned_subtitles'] for item in dataset]\n",
    "\n",
    "# # Save as a JSON array of strings\n",
    "# with open('cleaned_subtitles.json', 'w', encoding='utf-8') as f:\n",
    "#     json.dump(cleaned_subtitles_list, f, ensure_ascii=False, indent=2)"
   ]
  },
  {
   "cell_type": "code",
   "execution_count": 10,
   "metadata": {},
   "outputs": [],
   "source": [
    "# Wrap in a dict with \"data\" key\n",
    "output = {\"data\": dataset}\n",
    "\n",
    "with open(\"qdrant_data_test.json\", \"w\", encoding=\"utf-8\") as f:\n",
    "    json.dump(output, f, ensure_ascii=False, indent=2)"
   ]
  },
  {
   "cell_type": "code",
   "execution_count": 18,
   "metadata": {},
   "outputs": [],
   "source": [
    "def chunk_text(text, max_chars=2000):\n",
    "    \"\"\"Split text into chunks of max_chars (safe size for Document API).\"\"\"\n",
    "    return [text[i:i+max_chars] for i in range(0, len(text), max_chars)]"
   ]
  },
  {
   "cell_type": "code",
   "execution_count": 19,
   "metadata": {},
   "outputs": [],
   "source": [
    "def transform_json_for_astra(input_file, output_file):\n",
    "    with open(input_file, 'r', encoding='utf-8') as f:\n",
    "        data = json.load(f)\n",
    "    \n",
    "    transformed = []\n",
    "    for entry in data:\n",
    "        title = entry['title']\n",
    "        filename = entry['filename']\n",
    "        cleaned_subtitles = entry.get('cleaned_subtitles', '')\n",
    "        \n",
    "        chunks = chunk_text(cleaned_subtitles)\n",
    "        doc_id = str(uuid.uuid4())  # unique ID to link chunks\n",
    "        \n",
    "        for idx, chunk in enumerate(chunks):\n",
    "            doc = {\n",
    "                \"document_id\": doc_id,\n",
    "                \"title\": title,\n",
    "                \"filename\": filename,\n",
    "                \"chunk_index\": idx,\n",
    "                \"cleaned_subtitles_chunk\": chunk\n",
    "            }\n",
    "            transformed.append(doc)\n",
    "    \n",
    "    with open(output_file, 'w', encoding='utf-8') as f:\n",
    "        json.dump(transformed, f, ensure_ascii=False, indent=2)\n",
    "    \n",
    "    print(f\"Transformed JSON with {len(transformed)} documents saved to {output_file}\")"
   ]
  },
  {
   "cell_type": "code",
   "execution_count": 20,
   "metadata": {},
   "outputs": [
    {
     "name": "stdout",
     "output_type": "stream",
     "text": [
      "Transformed JSON with 59 documents saved to subtitles_transformed.json\n"
     ]
    }
   ],
   "source": [
    "# Example usage:\n",
    "transform_json_for_astra('cleaned_subtitles.json', 'subtitles_transformed.json')\n"
   ]
  },
  {
   "cell_type": "code",
   "execution_count": null,
   "metadata": {},
   "outputs": [],
   "source": []
  }
 ],
 "metadata": {
  "kernelspec": {
   "display_name": "Python 3 (ipykernel)",
   "language": "python",
   "name": "python3"
  },
  "language_info": {
   "codemirror_mode": {
    "name": "ipython",
    "version": 3
   },
   "file_extension": ".py",
   "mimetype": "text/x-python",
   "name": "python",
   "nbconvert_exporter": "python",
   "pygments_lexer": "ipython3",
   "version": "3.11.6"
  }
 },
 "nbformat": 4,
 "nbformat_minor": 4
}
